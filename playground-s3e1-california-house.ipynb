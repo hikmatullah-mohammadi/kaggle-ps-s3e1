{
 "cells": [
  {
   "cell_type": "markdown",
   "id": "8d3723b9",
   "metadata": {
    "papermill": {
     "duration": 0.011343,
     "end_time": "2023-01-07T20:23:36.048107",
     "exception": false,
     "start_time": "2023-01-07T20:23:36.036764",
     "status": "completed"
    },
    "tags": []
   },
   "source": [
    "# Playground Series Season 3 Episode 1"
   ]
  },
  {
   "cell_type": "code",
   "execution_count": 1,
   "id": "545cdcae",
   "metadata": {
    "execution": {
     "iopub.execute_input": "2023-01-07T20:23:36.068284Z",
     "iopub.status.busy": "2023-01-07T20:23:36.067765Z",
     "iopub.status.idle": "2023-01-07T20:23:37.201638Z",
     "shell.execute_reply": "2023-01-07T20:23:37.200263Z"
    },
    "papermill": {
     "duration": 1.148202,
     "end_time": "2023-01-07T20:23:37.205868",
     "exception": false,
     "start_time": "2023-01-07T20:23:36.057666",
     "status": "completed"
    },
    "tags": []
   },
   "outputs": [],
   "source": [
    "# import required libraries\n",
    "import pandas as pd\n",
    "import numpy as np\n",
    "import matplotlib.pyplot as plt\n",
    "import seaborn as sns"
   ]
  },
  {
   "cell_type": "code",
   "execution_count": 2,
   "id": "d4fa6f8b",
   "metadata": {
    "execution": {
     "iopub.execute_input": "2023-01-07T20:23:37.225961Z",
     "iopub.status.busy": "2023-01-07T20:23:37.225548Z",
     "iopub.status.idle": "2023-01-07T20:23:37.444816Z",
     "shell.execute_reply": "2023-01-07T20:23:37.442695Z"
    },
    "papermill": {
     "duration": 0.232873,
     "end_time": "2023-01-07T20:23:37.447753",
     "exception": false,
     "start_time": "2023-01-07T20:23:37.214880",
     "status": "completed"
    },
    "tags": []
   },
   "outputs": [],
   "source": [
    "# input the dataset\n",
    "df_train = pd.read_csv('/kaggle/input/playground-series-s3e1/train.csv', index_col=0)\n",
    "df_test = pd.read_csv('/kaggle/input/playground-series-s3e1/test.csv', index_col=0)"
   ]
  },
  {
   "cell_type": "markdown",
   "id": "ef6baeb8",
   "metadata": {
    "papermill": {
     "duration": 0.011963,
     "end_time": "2023-01-07T20:23:37.468566",
     "exception": false,
     "start_time": "2023-01-07T20:23:37.456603",
     "status": "completed"
    },
    "tags": []
   },
   "source": [
    "## 1) Data exploration & preparation"
   ]
  },
  {
   "cell_type": "code",
   "execution_count": 3,
   "id": "2df6e9a3",
   "metadata": {
    "execution": {
     "iopub.execute_input": "2023-01-07T20:23:37.491107Z",
     "iopub.status.busy": "2023-01-07T20:23:37.490715Z",
     "iopub.status.idle": "2023-01-07T20:23:37.525888Z",
     "shell.execute_reply": "2023-01-07T20:23:37.524396Z"
    },
    "papermill": {
     "duration": 0.050828,
     "end_time": "2023-01-07T20:23:37.529513",
     "exception": false,
     "start_time": "2023-01-07T20:23:37.478685",
     "status": "completed"
    },
    "tags": []
   },
   "outputs": [
    {
     "data": {
      "text/html": [
       "<div>\n",
       "<style scoped>\n",
       "    .dataframe tbody tr th:only-of-type {\n",
       "        vertical-align: middle;\n",
       "    }\n",
       "\n",
       "    .dataframe tbody tr th {\n",
       "        vertical-align: top;\n",
       "    }\n",
       "\n",
       "    .dataframe thead th {\n",
       "        text-align: right;\n",
       "    }\n",
       "</style>\n",
       "<table border=\"1\" class=\"dataframe\">\n",
       "  <thead>\n",
       "    <tr style=\"text-align: right;\">\n",
       "      <th></th>\n",
       "      <th>MedInc</th>\n",
       "      <th>HouseAge</th>\n",
       "      <th>AveRooms</th>\n",
       "      <th>AveBedrms</th>\n",
       "      <th>Population</th>\n",
       "      <th>AveOccup</th>\n",
       "      <th>Latitude</th>\n",
       "      <th>Longitude</th>\n",
       "      <th>MedHouseVal</th>\n",
       "    </tr>\n",
       "    <tr>\n",
       "      <th>id</th>\n",
       "      <th></th>\n",
       "      <th></th>\n",
       "      <th></th>\n",
       "      <th></th>\n",
       "      <th></th>\n",
       "      <th></th>\n",
       "      <th></th>\n",
       "      <th></th>\n",
       "      <th></th>\n",
       "    </tr>\n",
       "  </thead>\n",
       "  <tbody>\n",
       "    <tr>\n",
       "      <th>0</th>\n",
       "      <td>2.3859</td>\n",
       "      <td>15.0</td>\n",
       "      <td>3.827160</td>\n",
       "      <td>1.112100</td>\n",
       "      <td>1280.0</td>\n",
       "      <td>2.486989</td>\n",
       "      <td>34.60</td>\n",
       "      <td>-120.12</td>\n",
       "      <td>0.980</td>\n",
       "    </tr>\n",
       "    <tr>\n",
       "      <th>1</th>\n",
       "      <td>3.7188</td>\n",
       "      <td>17.0</td>\n",
       "      <td>6.013373</td>\n",
       "      <td>1.054217</td>\n",
       "      <td>1504.0</td>\n",
       "      <td>3.813084</td>\n",
       "      <td>38.69</td>\n",
       "      <td>-121.22</td>\n",
       "      <td>0.946</td>\n",
       "    </tr>\n",
       "    <tr>\n",
       "      <th>2</th>\n",
       "      <td>4.7750</td>\n",
       "      <td>27.0</td>\n",
       "      <td>6.535604</td>\n",
       "      <td>1.103175</td>\n",
       "      <td>1061.0</td>\n",
       "      <td>2.464602</td>\n",
       "      <td>34.71</td>\n",
       "      <td>-120.45</td>\n",
       "      <td>1.576</td>\n",
       "    </tr>\n",
       "    <tr>\n",
       "      <th>3</th>\n",
       "      <td>2.4138</td>\n",
       "      <td>16.0</td>\n",
       "      <td>3.350203</td>\n",
       "      <td>0.965432</td>\n",
       "      <td>1255.0</td>\n",
       "      <td>2.089286</td>\n",
       "      <td>32.66</td>\n",
       "      <td>-117.09</td>\n",
       "      <td>1.336</td>\n",
       "    </tr>\n",
       "    <tr>\n",
       "      <th>4</th>\n",
       "      <td>3.7500</td>\n",
       "      <td>52.0</td>\n",
       "      <td>4.284404</td>\n",
       "      <td>1.069246</td>\n",
       "      <td>1793.0</td>\n",
       "      <td>1.604790</td>\n",
       "      <td>37.80</td>\n",
       "      <td>-122.41</td>\n",
       "      <td>4.500</td>\n",
       "    </tr>\n",
       "  </tbody>\n",
       "</table>\n",
       "</div>"
      ],
      "text/plain": [
       "    MedInc  HouseAge  AveRooms  AveBedrms  Population  AveOccup  Latitude  \\\n",
       "id                                                                          \n",
       "0   2.3859      15.0  3.827160   1.112100      1280.0  2.486989     34.60   \n",
       "1   3.7188      17.0  6.013373   1.054217      1504.0  3.813084     38.69   \n",
       "2   4.7750      27.0  6.535604   1.103175      1061.0  2.464602     34.71   \n",
       "3   2.4138      16.0  3.350203   0.965432      1255.0  2.089286     32.66   \n",
       "4   3.7500      52.0  4.284404   1.069246      1793.0  1.604790     37.80   \n",
       "\n",
       "    Longitude  MedHouseVal  \n",
       "id                          \n",
       "0     -120.12        0.980  \n",
       "1     -121.22        0.946  \n",
       "2     -120.45        1.576  \n",
       "3     -117.09        1.336  \n",
       "4     -122.41        4.500  "
      ]
     },
     "execution_count": 3,
     "metadata": {},
     "output_type": "execute_result"
    }
   ],
   "source": [
    "df_train.head()"
   ]
  },
  {
   "cell_type": "code",
   "execution_count": 4,
   "id": "43085bd6",
   "metadata": {
    "execution": {
     "iopub.execute_input": "2023-01-07T20:23:37.556812Z",
     "iopub.status.busy": "2023-01-07T20:23:37.555921Z",
     "iopub.status.idle": "2023-01-07T20:23:37.566366Z",
     "shell.execute_reply": "2023-01-07T20:23:37.563921Z"
    },
    "papermill": {
     "duration": 0.028716,
     "end_time": "2023-01-07T20:23:37.569556",
     "exception": false,
     "start_time": "2023-01-07T20:23:37.540840",
     "status": "completed"
    },
    "tags": []
   },
   "outputs": [
    {
     "data": {
      "text/plain": [
       "(37137, 9)"
      ]
     },
     "execution_count": 4,
     "metadata": {},
     "output_type": "execute_result"
    }
   ],
   "source": [
    "# the number of rows (observations) and columns (features)\n",
    "df_train.shape"
   ]
  },
  {
   "cell_type": "markdown",
   "id": "781c625f",
   "metadata": {
    "papermill": {
     "duration": 0.009692,
     "end_time": "2023-01-07T20:23:37.590289",
     "exception": false,
     "start_time": "2023-01-07T20:23:37.580597",
     "status": "completed"
    },
    "tags": []
   },
   "source": [
    "The dataset contains **37137** rows and **10** features including the *id* and the target variable which is **MedHouseVal**."
   ]
  },
  {
   "cell_type": "markdown",
   "id": "9b3ae3df",
   "metadata": {
    "papermill": {
     "duration": 0.008525,
     "end_time": "2023-01-07T20:23:37.608473",
     "exception": false,
     "start_time": "2023-01-07T20:23:37.599948",
     "status": "completed"
    },
    "tags": []
   },
   "source": [
    "**Combine the training and the test set to do some data preprocessing**"
   ]
  },
  {
   "cell_type": "code",
   "execution_count": 5,
   "id": "22418e97",
   "metadata": {
    "execution": {
     "iopub.execute_input": "2023-01-07T20:23:37.630201Z",
     "iopub.status.busy": "2023-01-07T20:23:37.629097Z",
     "iopub.status.idle": "2023-01-07T20:23:37.643171Z",
     "shell.execute_reply": "2023-01-07T20:23:37.642184Z"
    },
    "papermill": {
     "duration": 0.02813,
     "end_time": "2023-01-07T20:23:37.645837",
     "exception": false,
     "start_time": "2023-01-07T20:23:37.617707",
     "status": "completed"
    },
    "tags": []
   },
   "outputs": [],
   "source": [
    "# combine train and test sets\n",
    "y = df_train.pop('MedHouseVal')\n",
    "df = df_train.append(df_test)"
   ]
  },
  {
   "cell_type": "markdown",
   "id": "54a6643c",
   "metadata": {
    "papermill": {
     "duration": 0.008666,
     "end_time": "2023-01-07T20:23:37.663527",
     "exception": false,
     "start_time": "2023-01-07T20:23:37.654861",
     "status": "completed"
    },
    "tags": []
   },
   "source": [
    "---"
   ]
  },
  {
   "cell_type": "code",
   "execution_count": 6,
   "id": "4eb02748",
   "metadata": {
    "execution": {
     "iopub.execute_input": "2023-01-07T20:23:37.684137Z",
     "iopub.status.busy": "2023-01-07T20:23:37.683442Z",
     "iopub.status.idle": "2023-01-07T20:23:37.695661Z",
     "shell.execute_reply": "2023-01-07T20:23:37.694539Z"
    },
    "papermill": {
     "duration": 0.025378,
     "end_time": "2023-01-07T20:23:37.698411",
     "exception": false,
     "start_time": "2023-01-07T20:23:37.673033",
     "status": "completed"
    },
    "tags": []
   },
   "outputs": [
    {
     "data": {
      "text/plain": [
       "MedInc        0\n",
       "HouseAge      0\n",
       "AveRooms      0\n",
       "AveBedrms     0\n",
       "Population    0\n",
       "AveOccup      0\n",
       "Latitude      0\n",
       "Longitude     0\n",
       "dtype: int64"
      ]
     },
     "execution_count": 6,
     "metadata": {},
     "output_type": "execute_result"
    }
   ],
   "source": [
    "# Missing values\n",
    "df.isnull().sum()"
   ]
  },
  {
   "cell_type": "markdown",
   "id": "8b92943a",
   "metadata": {
    "papermill": {
     "duration": 0.009089,
     "end_time": "2023-01-07T20:23:37.716839",
     "exception": false,
     "start_time": "2023-01-07T20:23:37.707750",
     "status": "completed"
    },
    "tags": []
   },
   "source": [
    "No missing values in the dataset."
   ]
  },
  {
   "cell_type": "markdown",
   "id": "0cab9912",
   "metadata": {
    "papermill": {
     "duration": 0.009013,
     "end_time": "2023-01-07T20:23:37.736612",
     "exception": false,
     "start_time": "2023-01-07T20:23:37.727599",
     "status": "completed"
    },
    "tags": []
   },
   "source": [
    "#### Handling outliers (Extreme values)"
   ]
  },
  {
   "cell_type": "markdown",
   "id": "c4f64503",
   "metadata": {
    "papermill": {
     "duration": 0.008285,
     "end_time": "2023-01-07T20:23:37.753538",
     "exception": false,
     "start_time": "2023-01-07T20:23:37.745253",
     "status": "completed"
    },
    "tags": []
   },
   "source": [
    "We use IQR approach to handle outliers"
   ]
  },
  {
   "cell_type": "code",
   "execution_count": 7,
   "id": "771cc18e",
   "metadata": {
    "execution": {
     "iopub.execute_input": "2023-01-07T20:23:37.774359Z",
     "iopub.status.busy": "2023-01-07T20:23:37.772969Z",
     "iopub.status.idle": "2023-01-07T20:23:37.845119Z",
     "shell.execute_reply": "2023-01-07T20:23:37.843765Z"
    },
    "papermill": {
     "duration": 0.08576,
     "end_time": "2023-01-07T20:23:37.847838",
     "exception": false,
     "start_time": "2023-01-07T20:23:37.762078",
     "status": "completed"
    },
    "tags": []
   },
   "outputs": [
    {
     "data": {
      "text/html": [
       "<div>\n",
       "<style scoped>\n",
       "    .dataframe tbody tr th:only-of-type {\n",
       "        vertical-align: middle;\n",
       "    }\n",
       "\n",
       "    .dataframe tbody tr th {\n",
       "        vertical-align: top;\n",
       "    }\n",
       "\n",
       "    .dataframe thead th {\n",
       "        text-align: right;\n",
       "    }\n",
       "</style>\n",
       "<table border=\"1\" class=\"dataframe\">\n",
       "  <thead>\n",
       "    <tr style=\"text-align: right;\">\n",
       "      <th></th>\n",
       "      <th>MedInc</th>\n",
       "      <th>HouseAge</th>\n",
       "      <th>AveRooms</th>\n",
       "      <th>AveBedrms</th>\n",
       "      <th>Population</th>\n",
       "      <th>AveOccup</th>\n",
       "      <th>Latitude</th>\n",
       "      <th>Longitude</th>\n",
       "    </tr>\n",
       "  </thead>\n",
       "  <tbody>\n",
       "    <tr>\n",
       "      <th>count</th>\n",
       "      <td>37137.000000</td>\n",
       "      <td>37137.000000</td>\n",
       "      <td>37137.000000</td>\n",
       "      <td>37137.000000</td>\n",
       "      <td>37137.000000</td>\n",
       "      <td>37137.000000</td>\n",
       "      <td>37137.000000</td>\n",
       "      <td>37137.000000</td>\n",
       "    </tr>\n",
       "    <tr>\n",
       "      <th>mean</th>\n",
       "      <td>3.851029</td>\n",
       "      <td>26.057005</td>\n",
       "      <td>5.163124</td>\n",
       "      <td>1.062204</td>\n",
       "      <td>1660.778919</td>\n",
       "      <td>2.831243</td>\n",
       "      <td>35.570030</td>\n",
       "      <td>-119.554329</td>\n",
       "    </tr>\n",
       "    <tr>\n",
       "      <th>std</th>\n",
       "      <td>1.803167</td>\n",
       "      <td>12.158221</td>\n",
       "      <td>1.206242</td>\n",
       "      <td>0.096490</td>\n",
       "      <td>1302.469608</td>\n",
       "      <td>2.702413</td>\n",
       "      <td>2.083179</td>\n",
       "      <td>1.974028</td>\n",
       "    </tr>\n",
       "    <tr>\n",
       "      <th>min</th>\n",
       "      <td>0.499900</td>\n",
       "      <td>2.000000</td>\n",
       "      <td>0.851064</td>\n",
       "      <td>0.500000</td>\n",
       "      <td>3.000000</td>\n",
       "      <td>0.950000</td>\n",
       "      <td>32.550000</td>\n",
       "      <td>-124.350000</td>\n",
       "    </tr>\n",
       "    <tr>\n",
       "      <th>25%</th>\n",
       "      <td>2.602300</td>\n",
       "      <td>17.000000</td>\n",
       "      <td>4.357522</td>\n",
       "      <td>1.020305</td>\n",
       "      <td>952.000000</td>\n",
       "      <td>2.394495</td>\n",
       "      <td>33.930000</td>\n",
       "      <td>-121.800000</td>\n",
       "    </tr>\n",
       "    <tr>\n",
       "      <th>50%</th>\n",
       "      <td>3.515600</td>\n",
       "      <td>25.000000</td>\n",
       "      <td>5.068611</td>\n",
       "      <td>1.054545</td>\n",
       "      <td>1383.000000</td>\n",
       "      <td>2.744828</td>\n",
       "      <td>34.190000</td>\n",
       "      <td>-118.450000</td>\n",
       "    </tr>\n",
       "    <tr>\n",
       "      <th>75%</th>\n",
       "      <td>4.699700</td>\n",
       "      <td>35.000000</td>\n",
       "      <td>5.858597</td>\n",
       "      <td>1.088825</td>\n",
       "      <td>1856.000000</td>\n",
       "      <td>3.125313</td>\n",
       "      <td>37.700000</td>\n",
       "      <td>-118.020000</td>\n",
       "    </tr>\n",
       "    <tr>\n",
       "      <th>max</th>\n",
       "      <td>15.000100</td>\n",
       "      <td>52.000000</td>\n",
       "      <td>28.837607</td>\n",
       "      <td>5.873181</td>\n",
       "      <td>35682.000000</td>\n",
       "      <td>502.990610</td>\n",
       "      <td>41.950000</td>\n",
       "      <td>-114.550000</td>\n",
       "    </tr>\n",
       "  </tbody>\n",
       "</table>\n",
       "</div>"
      ],
      "text/plain": [
       "             MedInc      HouseAge      AveRooms     AveBedrms    Population  \\\n",
       "count  37137.000000  37137.000000  37137.000000  37137.000000  37137.000000   \n",
       "mean       3.851029     26.057005      5.163124      1.062204   1660.778919   \n",
       "std        1.803167     12.158221      1.206242      0.096490   1302.469608   \n",
       "min        0.499900      2.000000      0.851064      0.500000      3.000000   \n",
       "25%        2.602300     17.000000      4.357522      1.020305    952.000000   \n",
       "50%        3.515600     25.000000      5.068611      1.054545   1383.000000   \n",
       "75%        4.699700     35.000000      5.858597      1.088825   1856.000000   \n",
       "max       15.000100     52.000000     28.837607      5.873181  35682.000000   \n",
       "\n",
       "           AveOccup      Latitude     Longitude  \n",
       "count  37137.000000  37137.000000  37137.000000  \n",
       "mean       2.831243     35.570030   -119.554329  \n",
       "std        2.702413      2.083179      1.974028  \n",
       "min        0.950000     32.550000   -124.350000  \n",
       "25%        2.394495     33.930000   -121.800000  \n",
       "50%        2.744828     34.190000   -118.450000  \n",
       "75%        3.125313     37.700000   -118.020000  \n",
       "max      502.990610     41.950000   -114.550000  "
      ]
     },
     "execution_count": 7,
     "metadata": {},
     "output_type": "execute_result"
    }
   ],
   "source": [
    "df_train.describe()"
   ]
  },
  {
   "cell_type": "markdown",
   "id": "2df489d4",
   "metadata": {
    "papermill": {
     "duration": 0.008949,
     "end_time": "2023-01-07T20:23:37.865838",
     "exception": false,
     "start_time": "2023-01-07T20:23:37.856889",
     "status": "completed"
    },
    "tags": []
   },
   "source": [
    "From the above chart, we can see that *Population* and *AveOccup* features contain some outliers which will be taken care of later.<br>\n",
    "Consider the figure bellow to visualize better the outliers."
   ]
  },
  {
   "cell_type": "code",
   "execution_count": 8,
   "id": "c32f64ee",
   "metadata": {
    "execution": {
     "iopub.execute_input": "2023-01-07T20:23:37.886915Z",
     "iopub.status.busy": "2023-01-07T20:23:37.885670Z",
     "iopub.status.idle": "2023-01-07T20:23:38.264265Z",
     "shell.execute_reply": "2023-01-07T20:23:38.262628Z"
    },
    "papermill": {
     "duration": 0.391878,
     "end_time": "2023-01-07T20:23:38.266978",
     "exception": false,
     "start_time": "2023-01-07T20:23:37.875100",
     "status": "completed"
    },
    "tags": []
   },
   "outputs": [
    {
     "data": {
      "text/plain": [
       "Text(0.5, 1.0, 'Population')"
      ]
     },
     "execution_count": 8,
     "metadata": {},
     "output_type": "execute_result"
    },
    {
     "data": {
      "image/png": "[encoded data removed]",
      "text/plain": [
       "<Figure size 864x288 with 2 Axes>"
      ]
     },
     "metadata": {
      "needs_background": "light"
     },
     "output_type": "display_data"
    }
   ],
   "source": [
    "# Average Occupant\n",
    "plt.figure(figsize=(12, 4))\n",
    "sns.set_palette('Set2')\n",
    "\n",
    "plt.subplot(1, 2, 1)\n",
    "ax = sns.boxenplot(x=df['AveOccup'])\n",
    "ax.set_title('AveOccup', fontdict={'fontsize':16})\n",
    "\n",
    "# population\n",
    "plt.subplot(1, 2, 2)\n",
    "ax = sns.boxenplot(x=df['Population'])\n",
    "ax.set_title('Population', fontdict={'fontsize':16})"
   ]
  },
  {
   "cell_type": "markdown",
   "id": "bff86e09",
   "metadata": {
    "papermill": {
     "duration": 0.008972,
     "end_time": "2023-01-07T20:23:38.285895",
     "exception": false,
     "start_time": "2023-01-07T20:23:38.276923",
     "status": "completed"
    },
    "tags": []
   },
   "source": [
    "Well, lets apply *IQR* to handle the outliers. In this case, we will replace them by their mean values."
   ]
  },
  {
   "cell_type": "code",
   "execution_count": 9,
   "id": "4be4872e",
   "metadata": {
    "execution": {
     "iopub.execute_input": "2023-01-07T20:23:38.308708Z",
     "iopub.status.busy": "2023-01-07T20:23:38.308284Z",
     "iopub.status.idle": "2023-01-07T20:23:38.316870Z",
     "shell.execute_reply": "2023-01-07T20:23:38.315408Z"
    },
    "papermill": {
     "duration": 0.023748,
     "end_time": "2023-01-07T20:23:38.319671",
     "exception": false,
     "start_time": "2023-01-07T20:23:38.295923",
     "status": "completed"
    },
    "tags": []
   },
   "outputs": [],
   "source": [
    "# the function to replace outliers with nan\n",
    "def replace_outliers_with_nan_iqr(df, feature, inplace=False):\n",
    "    desired_feature = df[feature]\n",
    "    \n",
    "    q1, q3 = desired_feature.quantile([0.25, 0.75])\n",
    "    iqr = q3 - q1\n",
    "    upper_bound = q3 + 1.5 * iqr\n",
    "    lower_bound = q1 - 1.5 * iqr\n",
    "    indices = (desired_feature[(desired_feature > upper_bound) | (desired_feature < lower_bound)]).index\n",
    "    if not inplace:\n",
    "        return desired_feature.replace(desired_feature[indices].values, np.nan)\n",
    "    return desired_feature.replace(desired_feature[indices].values, np.nan, inplace=True)"
   ]
  },
  {
   "cell_type": "markdown",
   "id": "c4d4ebc5",
   "metadata": {
    "papermill": {
     "duration": 0.008826,
     "end_time": "2023-01-07T20:23:38.337967",
     "exception": false,
     "start_time": "2023-01-07T20:23:38.329141",
     "status": "completed"
    },
    "tags": []
   },
   "source": [
    "Replace outliers by NaN in 'Population' and 'AveOccup' features"
   ]
  },
  {
   "cell_type": "code",
   "execution_count": 10,
   "id": "5b66ccc5",
   "metadata": {
    "execution": {
     "iopub.execute_input": "2023-01-07T20:23:38.358671Z",
     "iopub.status.busy": "2023-01-07T20:23:38.357911Z",
     "iopub.status.idle": "2023-01-07T20:23:39.724490Z",
     "shell.execute_reply": "2023-01-07T20:23:39.723409Z"
    },
    "papermill": {
     "duration": 1.380339,
     "end_time": "2023-01-07T20:23:39.727399",
     "exception": false,
     "start_time": "2023-01-07T20:23:38.347060",
     "status": "completed"
    },
    "tags": []
   },
   "outputs": [],
   "source": [
    "# replace outliers by NaN in 'Population' and 'AveOccup' features\n",
    "replace_outliers_with_nan_iqr(df, 'Population', inplace=True)\n",
    "replace_outliers_with_nan_iqr(df, 'AveOccup', inplace=True)"
   ]
  },
  {
   "cell_type": "code",
   "execution_count": 11,
   "id": "a12f705b",
   "metadata": {
    "execution": {
     "iopub.execute_input": "2023-01-07T20:23:39.748864Z",
     "iopub.status.busy": "2023-01-07T20:23:39.748123Z",
     "iopub.status.idle": "2023-01-07T20:23:39.756356Z",
     "shell.execute_reply": "2023-01-07T20:23:39.755096Z"
    },
    "papermill": {
     "duration": 0.02194,
     "end_time": "2023-01-07T20:23:39.759038",
     "exception": false,
     "start_time": "2023-01-07T20:23:39.737098",
     "status": "completed"
    },
    "tags": []
   },
   "outputs": [
    {
     "data": {
      "text/plain": [
       "4236"
      ]
     },
     "execution_count": 11,
     "metadata": {},
     "output_type": "execute_result"
    }
   ],
   "source": [
    "# number of values replaced by Nan\n",
    "df['Population'].isnull().sum()"
   ]
  },
  {
   "cell_type": "code",
   "execution_count": 12,
   "id": "1bd1960c",
   "metadata": {
    "execution": {
     "iopub.execute_input": "2023-01-07T20:23:39.780385Z",
     "iopub.status.busy": "2023-01-07T20:23:39.779969Z",
     "iopub.status.idle": "2023-01-07T20:23:39.788252Z",
     "shell.execute_reply": "2023-01-07T20:23:39.787149Z"
    },
    "papermill": {
     "duration": 0.021641,
     "end_time": "2023-01-07T20:23:39.790492",
     "exception": false,
     "start_time": "2023-01-07T20:23:39.768851",
     "status": "completed"
    },
    "tags": []
   },
   "outputs": [
    {
     "data": {
      "text/plain": [
       "2338"
      ]
     },
     "execution_count": 12,
     "metadata": {},
     "output_type": "execute_result"
    }
   ],
   "source": [
    "# number of values replaced by Nan\n",
    "df['AveOccup'].isnull().sum()"
   ]
  },
  {
   "cell_type": "code",
   "execution_count": 13,
   "id": "958208a6",
   "metadata": {
    "execution": {
     "iopub.execute_input": "2023-01-07T20:23:39.813907Z",
     "iopub.status.busy": "2023-01-07T20:23:39.813473Z",
     "iopub.status.idle": "2023-01-07T20:23:39.821539Z",
     "shell.execute_reply": "2023-01-07T20:23:39.820386Z"
    },
    "papermill": {
     "duration": 0.023794,
     "end_time": "2023-01-07T20:23:39.824088",
     "exception": false,
     "start_time": "2023-01-07T20:23:39.800294",
     "status": "completed"
    },
    "tags": []
   },
   "outputs": [],
   "source": [
    "# replace the NaN values of 'Population' and 'AveOccup' features with their mean values\n",
    "df['Population'].fillna(value=df['Population'].mean(), inplace=True)\n",
    "df['AveOccup'].fillna(value=df['AveOccup'].mean(), inplace=True)"
   ]
  },
  {
   "cell_type": "markdown",
   "id": "39ab422f",
   "metadata": {
    "papermill": {
     "duration": 0.009174,
     "end_time": "2023-01-07T20:23:39.843306",
     "exception": false,
     "start_time": "2023-01-07T20:23:39.834132",
     "status": "completed"
    },
    "tags": []
   },
   "source": [
    "---"
   ]
  },
  {
   "cell_type": "markdown",
   "id": "03178c40",
   "metadata": {
    "papermill": {
     "duration": 0.009556,
     "end_time": "2023-01-07T20:23:39.863198",
     "exception": false,
     "start_time": "2023-01-07T20:23:39.853642",
     "status": "completed"
    },
    "tags": []
   },
   "source": [
    "## 2) Modeling"
   ]
  },
  {
   "cell_type": "markdown",
   "id": "bb15963f",
   "metadata": {
    "papermill": {
     "duration": 0.009108,
     "end_time": "2023-01-07T20:23:39.881789",
     "exception": false,
     "start_time": "2023-01-07T20:23:39.872681",
     "status": "completed"
    },
    "tags": []
   },
   "source": [
    "Now, we will separate back the training and the test sets from each other."
   ]
  },
  {
   "cell_type": "code",
   "execution_count": 14,
   "id": "d55dcda6",
   "metadata": {
    "execution": {
     "iopub.execute_input": "2023-01-07T20:23:39.902581Z",
     "iopub.status.busy": "2023-01-07T20:23:39.902137Z",
     "iopub.status.idle": "2023-01-07T20:23:39.907482Z",
     "shell.execute_reply": "2023-01-07T20:23:39.906493Z"
    },
    "papermill": {
     "duration": 0.018762,
     "end_time": "2023-01-07T20:23:39.909812",
     "exception": false,
     "start_time": "2023-01-07T20:23:39.891050",
     "status": "completed"
    },
    "tags": []
   },
   "outputs": [],
   "source": [
    "df_train = df.iloc[:df_train.shape[0]]\n",
    "df_test = df.iloc[df_train.shape[0]:]"
   ]
  },
  {
   "cell_type": "code",
   "execution_count": 15,
   "id": "2c731e8a",
   "metadata": {
    "execution": {
     "iopub.execute_input": "2023-01-07T20:23:39.931704Z",
     "iopub.status.busy": "2023-01-07T20:23:39.931262Z",
     "iopub.status.idle": "2023-01-07T20:23:39.939187Z",
     "shell.execute_reply": "2023-01-07T20:23:39.937766Z"
    },
    "papermill": {
     "duration": 0.02206,
     "end_time": "2023-01-07T20:23:39.941825",
     "exception": false,
     "start_time": "2023-01-07T20:23:39.919765",
     "status": "completed"
    },
    "tags": []
   },
   "outputs": [
    {
     "data": {
      "text/plain": [
       "(37137, 8)"
      ]
     },
     "execution_count": 15,
     "metadata": {},
     "output_type": "execute_result"
    }
   ],
   "source": [
    "df_train.shape"
   ]
  },
  {
   "cell_type": "code",
   "execution_count": 16,
   "id": "ff9b2863",
   "metadata": {
    "execution": {
     "iopub.execute_input": "2023-01-07T20:23:39.963510Z",
     "iopub.status.busy": "2023-01-07T20:23:39.963025Z",
     "iopub.status.idle": "2023-01-07T20:23:40.173953Z",
     "shell.execute_reply": "2023-01-07T20:23:40.172634Z"
    },
    "papermill": {
     "duration": 0.226178,
     "end_time": "2023-01-07T20:23:40.178065",
     "exception": false,
     "start_time": "2023-01-07T20:23:39.951887",
     "status": "completed"
    },
    "tags": []
   },
   "outputs": [],
   "source": [
    "# split the trian and val data\n",
    "from sklearn.model_selection import train_test_split\n",
    "\n",
    "X = df_train\n",
    "y = y\n",
    "\n",
    "X_train, X_val, y_train, y_val = train_test_split(X, y, test_size=0.2, random_state=10)"
   ]
  },
  {
   "cell_type": "code",
   "execution_count": 17,
   "id": "e1f8f111",
   "metadata": {
    "execution": {
     "iopub.execute_input": "2023-01-07T20:23:40.200213Z",
     "iopub.status.busy": "2023-01-07T20:23:40.199785Z",
     "iopub.status.idle": "2023-01-07T20:23:42.933148Z",
     "shell.execute_reply": "2023-01-07T20:23:42.931787Z"
    },
    "papermill": {
     "duration": 2.747535,
     "end_time": "2023-01-07T20:23:42.936026",
     "exception": false,
     "start_time": "2023-01-07T20:23:40.188491",
     "status": "completed"
    },
    "tags": []
   },
   "outputs": [
    {
     "data": {
      "text/plain": [
       "XGBRegressor(base_score=0.5, booster='gbtree', callbacks=None,\n",
       "             colsample_bylevel=1, colsample_bynode=1, colsample_bytree=1,\n",
       "             early_stopping_rounds=None, enable_categorical=False,\n",
       "             eval_metric=None, gamma=0, gpu_id=-1, grow_policy='depthwise',\n",
       "             importance_type=None, interaction_constraints='',\n",
       "             learning_rate=0.300000012, max_bin=256, max_cat_to_onehot=4,\n",
       "             max_delta_step=0, max_depth=6, max_leaves=0, min_child_weight=1,\n",
       "             missing=nan, monotone_constraints='()', n_estimators=100, n_jobs=0,\n",
       "             num_parallel_tree=1, predictor='auto', random_state=0, reg_alpha=0,\n",
       "             reg_lambda=1, ...)"
      ]
     },
     "execution_count": 17,
     "metadata": {},
     "output_type": "execute_result"
    }
   ],
   "source": [
    "# fit the dataset to the model\n",
    "from xgboost import XGBRegressor\n",
    "\n",
    "model = XGBRegressor()\n",
    "model.fit(X_train, y_train)"
   ]
  },
  {
   "cell_type": "code",
   "execution_count": 18,
   "id": "63cf19ff",
   "metadata": {
    "execution": {
     "iopub.execute_input": "2023-01-07T20:23:42.957888Z",
     "iopub.status.busy": "2023-01-07T20:23:42.956877Z",
     "iopub.status.idle": "2023-01-07T20:23:42.976260Z",
     "shell.execute_reply": "2023-01-07T20:23:42.975047Z"
    },
    "papermill": {
     "duration": 0.033702,
     "end_time": "2023-01-07T20:23:42.979344",
     "exception": false,
     "start_time": "2023-01-07T20:23:42.945642",
     "status": "completed"
    },
    "tags": []
   },
   "outputs": [],
   "source": [
    "# make a prediction\n",
    "y_pred = model.predict(X_val)"
   ]
  },
  {
   "cell_type": "code",
   "execution_count": 19,
   "id": "6074fa84",
   "metadata": {
    "execution": {
     "iopub.execute_input": "2023-01-07T20:23:43.001545Z",
     "iopub.status.busy": "2023-01-07T20:23:43.000358Z",
     "iopub.status.idle": "2023-01-07T20:23:43.010582Z",
     "shell.execute_reply": "2023-01-07T20:23:43.008953Z"
    },
    "papermill": {
     "duration": 0.025072,
     "end_time": "2023-01-07T20:23:43.014221",
     "exception": false,
     "start_time": "2023-01-07T20:23:42.989149",
     "status": "completed"
    },
    "tags": []
   },
   "outputs": [
    {
     "name": "stdout",
     "output_type": "stream",
     "text": [
      "RMSE:  0.5754103768815384\n"
     ]
    }
   ],
   "source": [
    "# Check the accuracy of the model\n",
    "# RMSE\n",
    "from sklearn.metrics import mean_squared_error\n",
    "\n",
    "rmse = mean_squared_error(y_val, y_pred, squared=False)\n",
    "print('RMSE: ', rmse)"
   ]
  },
  {
   "cell_type": "markdown",
   "id": "58b34883",
   "metadata": {
    "papermill": {
     "duration": 0.009721,
     "end_time": "2023-01-07T20:23:43.035016",
     "exception": false,
     "start_time": "2023-01-07T20:23:43.025295",
     "status": "completed"
    },
    "tags": []
   },
   "source": [
    "# Prediction on the test set and submission"
   ]
  },
  {
   "cell_type": "code",
   "execution_count": 20,
   "id": "9201965e",
   "metadata": {
    "execution": {
     "iopub.execute_input": "2023-01-07T20:23:43.056746Z",
     "iopub.status.busy": "2023-01-07T20:23:43.056298Z",
     "iopub.status.idle": "2023-01-07T20:23:43.096635Z",
     "shell.execute_reply": "2023-01-07T20:23:43.095239Z"
    },
    "papermill": {
     "duration": 0.055874,
     "end_time": "2023-01-07T20:23:43.100680",
     "exception": false,
     "start_time": "2023-01-07T20:23:43.044806",
     "status": "completed"
    },
    "tags": []
   },
   "outputs": [],
   "source": [
    "preds = model.predict(df_test)"
   ]
  },
  {
   "cell_type": "code",
   "execution_count": 21,
   "id": "eca1b85f",
   "metadata": {
    "execution": {
     "iopub.execute_input": "2023-01-07T20:23:43.123302Z",
     "iopub.status.busy": "2023-01-07T20:23:43.121800Z",
     "iopub.status.idle": "2023-01-07T20:23:43.130242Z",
     "shell.execute_reply": "2023-01-07T20:23:43.128417Z"
    },
    "papermill": {
     "duration": 0.023466,
     "end_time": "2023-01-07T20:23:43.134048",
     "exception": false,
     "start_time": "2023-01-07T20:23:43.110582",
     "status": "completed"
    },
    "tags": []
   },
   "outputs": [],
   "source": [
    "submission = pd.DataFrame({\n",
    "    'id': df_test.index,\n",
    "    'MedHouseVal': preds\n",
    "})"
   ]
  },
  {
   "cell_type": "code",
   "execution_count": 22,
   "id": "00cfe7fb",
   "metadata": {
    "execution": {
     "iopub.execute_input": "2023-01-07T20:23:43.158120Z",
     "iopub.status.busy": "2023-01-07T20:23:43.157680Z",
     "iopub.status.idle": "2023-01-07T20:23:43.214102Z",
     "shell.execute_reply": "2023-01-07T20:23:43.212302Z"
    },
    "papermill": {
     "duration": 0.071402,
     "end_time": "2023-01-07T20:23:43.217340",
     "exception": false,
     "start_time": "2023-01-07T20:23:43.145938",
     "status": "completed"
    },
    "tags": []
   },
   "outputs": [],
   "source": [
    "submission.to_csv('./submission.csv', index=False)"
   ]
  },
  {
   "cell_type": "markdown",
   "id": "715c1dc1",
   "metadata": {
    "papermill": {
     "duration": 0.009501,
     "end_time": "2023-01-07T20:23:43.236753",
     "exception": false,
     "start_time": "2023-01-07T20:23:43.227252",
     "status": "completed"
    },
    "tags": []
   },
   "source": [
    "# Thank you :)"
   ]
  }
 ],
 "metadata": {
  "kernelspec": {
   "display_name": "Python 3",
   "language": "python",
   "name": "python3"
  },
  "language_info": {
   "codemirror_mode": {
    "name": "ipython",
    "version": 3
   },
   "file_extension": ".py",
   "mimetype": "text/x-python",
   "name": "python",
   "nbconvert_exporter": "python",
   "pygments_lexer": "ipython3",
   "version": "3.7.12"
  },
  "papermill": {
   "default_parameters": {},
   "duration": 17.656591,
   "end_time": "2023-01-07T20:23:44.171870",
   "environment_variables": {},
   "exception": null,
   "input_path": "__notebook__.ipynb",
   "output_path": "__notebook__.ipynb",
   "parameters": {},
   "start_time": "2023-01-07T20:23:26.515279",
   "version": "2.3.4"
  }
 },
 "nbformat": 4,
 "nbformat_minor": 5
}
